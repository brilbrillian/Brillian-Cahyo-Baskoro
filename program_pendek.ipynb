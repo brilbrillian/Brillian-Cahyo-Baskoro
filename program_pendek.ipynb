{
 "cells": [
  {
   "cell_type": "code",
   "execution_count": 2,
   "id": "manufactured-gabriel",
   "metadata": {},
   "outputs": [
    {
     "name": "stdout",
     "output_type": "stream",
     "text": [
      "こんにちは, Hello World. Glad to see you all\n"
     ]
    }
   ],
   "source": [
    "#|=============================|\n",
    "#|       Program halo.py       |\n",
    "#|       by brilbrillian_      |\n",
    "#|=============================|    \n",
    "#  I am Brillian Cahyo Baskoro\n",
    "#      20/459219/PA/19880\n",
    "print(\"こんにちは, Hello World. Glad to see you all\")"
   ]
  },
  {
   "cell_type": "code",
   "execution_count": null,
   "id": "vital-substance",
   "metadata": {},
   "outputs": [],
   "source": []
  }
 ],
 "metadata": {
  "kernelspec": {
   "display_name": "Python 3",
   "language": "python",
   "name": "python3"
  },
  "language_info": {
   "codemirror_mode": {
    "name": "ipython",
    "version": 3
   },
   "file_extension": ".py",
   "mimetype": "text/x-python",
   "name": "python",
   "nbconvert_exporter": "python",
   "pygments_lexer": "ipython3",
   "version": "3.8.5"
  }
 },
 "nbformat": 4,
 "nbformat_minor": 5
}
